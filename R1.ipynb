import undetected_chromedriver as uc
import time
import xlwt
from selenium.webdriver.common.by import By
from selenium.common.exceptions import NoSuchElementException
from datetime import date
from selenium.webdriver.chrome.options import Options

# Configure Chrome options to run in headless mode (no UI)
chrome_options = Options()
chrome_options.add_argument("--headless")
chrome_options.add_argument("--no-sandbox")
chrome_options.add_argument("--disable-gpu")
chrome_options.add_argument("--window-size=1920,1080")

# Khởi động trình duyệt trong chế độ headless
driver = uc.Chrome(options=chrome_options)
today = date.today()

# Tạo workbook và sheet
wb = xlwt.Workbook()
sheet1 = wb.add_sheet('Sheet 1')

# Khởi tạo danh sách liên kết toàn bộ trang
all_links = []

for page_num in range(1, 3):
    # Tạo URL cho từng trang
    url = f'https://batdongsan.com.vn/nha-dat-ban-tp-hcm/p{page_num}'
    driver.get(url)
    time.sleep(5)  # Đợi trang tải xong

    # Lấy danh sách liên kết sản phẩm từ trang hiện tại
    lst = [element.get_attribute("href") for element in driver.find_elements(By.CSS_SELECTOR, "#product-lists-web a")]
    all_links.extend(lst)  # Thêm các liên kết vào danh sách chung

# Thêm tiêu đề cột vào hàng đầu tiên
headers = ['Ngày', 'Địa chỉ cụ thể', 'Path Menu', 'Thành Phố', 'Huyện', 'Kiểu nhà bán',
           'ID', 'Diện tích', 'Số phòng ngủ', 'Số toilet', 'Pháp lý', 'Số tầng',
           'Hướng nhà', 'Nội thất', 'Mức giá', 'Hướng ban công', 'Ngày đăng', 'Ngày hết hạn']

for col, header in enumerate(headers):
    sheet1.write(0, col, header)

cnt = 1  # Đếm hàng cho Excel
today = date.today()  # Lấy ngày hiện tại

# Lặp qua danh sách các liên kết trang chi tiết
print(all_links)
for itm in all_links:
    print(itm)
    if not itm:
        continue

    try:
        driver.get(itm)  # Truy cập từng trang chi tiết
        time.sleep(3)
    except Exception as e:
        print(f"Error accessing link: {itm}, Error: {str(e)}")
        continue

    try:
        # Lấy các phần tử cần thiết
        title = driver.find_element(By.CSS_SELECTOR, "h1[class*=title]").text
        path_menu = driver.find_element(By.CSS_SELECTOR, "[class*=re__breadcrumb]").text
        address = driver.find_element(By.CSS_SELECTOR, "span.re__pr-short-description.js__pr-address").text
        ID = driver.find_element(By.CSS_SELECTOR, "#product-detail-web > div.re__pr-short-info.re__pr-config.js__pr-config > div:nth-child(4) > span.value").text
        ngaydang = driver.find_element(By.XPATH, "//div[contains(@class, 're__pr-short-info-item') and .//span[text()='Ngày đăng']]/span[@class='value']").text
        ngayhethan = driver.find_element(By.XPATH, "//div[contains(@class, 're__pr-short-info-item') and .//span[text()='Ngày hết hạn']]/span[@class='value']").text

        print("Ngày đăng:", ngaydang)
        print("Ngày hết hạn:", ngayhethan)

        try:
            path_menu_lst = path_menu.split("/")
            province, district, housetype = path_menu_lst[1], path_menu_lst[2], path_menu_lst[3]
        except:
            province, district, housetype = None, None, None

        # Khởi tạo từ điển để lưu các đặc điểm
        features = {}
        try:
            specs = driver.find_elements(By.CSS_SELECTOR, ".re__pr-specs-content-item")
            for spec in specs:
                spec_title = spec.find_element(By.CSS_SELECTOR, ".re__pr-specs-content-item-title").text
                spec_value = spec.find_element(By.CSS_SELECTOR, ".re__pr-specs-content-item-value").text
                features[spec_title] = spec_value
        except NoSuchElementException:
            print("Lỗi: Không thể tìm thấy phần tử đặc điểm.")

        # Ánh xạ các đặc điểm vào cột tương ứng
        area = features.get('Diện tích', None)
        rooms = features.get('Số phòng ngủ', None)
        toilet = features.get('Số toilet', None)
        phaply = features.get('Pháp lý', None)
        sotang = features.get('Số tầng', None)
        huongnha = features.get('Hướng nhà', None)
        noithat = features.get('Nội thất', None)
        mucgia = features.get('Mức giá', None)
        huongbancong = features.get('Hướng ban công', None)

        # Ghi thông tin vào Excel
        row_data = [today.strftime("%d/%m/%Y"), address, path_menu, province, district, housetype,
                    ID, area, rooms, toilet, phaply, sotang, huongnha, noithat, mucgia, huongbancong,
                    ngaydang, ngayhethan]

        for col, value in enumerate(row_data):
            sheet1.write(cnt, col, value)

        cnt += 1  # Tăng số hàng

    except Exception as e:
        print(f"Error scraping content from link: {itm}, Error: {str(e)}")

# Lưu tệp Excel
wb.save('/Users/hoangtramanh/Desktop/QTCSDL/batdongsann_updated.xls')

# Đóng trình duyệt
driver.quit()
